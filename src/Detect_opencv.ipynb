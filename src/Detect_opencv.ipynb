{
 "cells": [
  {
   "cell_type": "code",
   "execution_count": 1,
   "id": "5cb6f253",
   "metadata": {},
   "outputs": [],
   "source": [
    "# %pip install opencv-python # Uncomment if your jupyter can't get the include path of cv2\n",
    "\n",
    "import cv2 as cv\n",
    "import time"
   ]
  },
  {
   "cell_type": "markdown",
   "id": "2aa98e0e",
   "metadata": {},
   "source": [
    "# Config"
   ]
  },
  {
   "cell_type": "code",
   "execution_count": 2,
   "id": "2a9b747b",
   "metadata": {},
   "outputs": [],
   "source": [
    "Conf_threshold = 0.8\n",
    "NMS_threshold = 0.4\n",
    "COLORS = [(0, 255, 0), (0, 0, 255), (255, 0, 0),\n",
    "          (255, 255, 0), (255, 0, 255)]"
   ]
  },
  {
   "cell_type": "markdown",
   "id": "206632fc",
   "metadata": {},
   "source": [
    "# Classes"
   ]
  },
  {
   "cell_type": "code",
   "execution_count": 3,
   "id": "1ac547f3",
   "metadata": {},
   "outputs": [
    {
     "name": "stdout",
     "output_type": "stream",
     "text": [
      "['C', 'T', 'L', 'F', 'E']\n"
     ]
    }
   ],
   "source": [
    "class_name = []\n",
    "with open('./data/block.names', 'r') as f: # change to your own path\n",
    "    class_name = [cname.strip() for cname in f.readlines()]\n",
    "print(class_name)"
   ]
  },
  {
   "cell_type": "markdown",
   "id": "6bc87ebb",
   "metadata": {},
   "source": [
    "# Load Model"
   ]
  },
  {
   "cell_type": "code",
   "execution_count": 4,
   "id": "cdad11e8",
   "metadata": {},
   "outputs": [],
   "source": [
    "net = cv.dnn.readNet('./weight/yolov4-tiny-custom_best.weights', './cfg/yolov4-tiny-custom.cfg') # change to your own path\n",
    "model = cv.dnn_DetectionModel(net)\n",
    "model.setInputParams(size=(416, 416), scale=1/255, swapRB=True)"
   ]
  },
  {
   "cell_type": "code",
   "execution_count": 5,
   "id": "cc771603",
   "metadata": {},
   "outputs": [],
   "source": [
    "img = cv.imread('./example.png') # Put the Picture that you want to detect blocks\n",
    "\n",
    "# while True:\n",
    "#     cv.imshow('predictions', img)\n",
    "#     key = cv.waitKey(1)\n",
    "#     if key == ord('q'):\n",
    "#         break\n",
    "# \n",
    "# cv.destroyAllWindows()"
   ]
  },
  {
   "cell_type": "markdown",
   "id": "0220d331",
   "metadata": {},
   "source": [
    "# Detect & Draw"
   ]
  },
  {
   "cell_type": "code",
   "execution_count": 6,
   "id": "6e338cf2",
   "metadata": {},
   "outputs": [
    {
     "name": "stdout",
     "output_type": "stream",
     "text": [
      "C : 0.999327 [371  41 135 119]\n",
      "T : 0.999730 [485 128 121 117]\n",
      "L : 0.999879 [394 246 116 103]\n",
      "F : 0.999784 [254 160 137 132]\n",
      "E : 0.999673 [334 355 131 118]\n"
     ]
    }
   ],
   "source": [
    "classes, scores, boxes = model.detect(img, Conf_threshold, NMS_threshold)\n",
    "\n",
    "for (classid, score, box) in zip(classes, scores, boxes):\n",
    "    color = COLORS[int(classid) % len(COLORS)]\n",
    "    label = \"%s : %f\" % (class_name[classid], score)\n",
    "    print(label, box) # (x, y, width, height)\n",
    "    pred_img = cv.rectangle(img, box, color, 1)\n",
    "    pred_img = cv.putText(pred_img, label, (box[0], box[1]-10), cv.FONT_HERSHEY_COMPLEX, 0.3, color, 1)"
   ]
  },
  {
   "cell_type": "code",
   "execution_count": 7,
   "id": "98becfcc",
   "metadata": {},
   "outputs": [
    {
     "data": {
      "text/plain": [
       "True"
      ]
     },
     "execution_count": 7,
     "metadata": {},
     "output_type": "execute_result"
    }
   ],
   "source": [
    "cv.imwrite('predictions.jpeg', pred_img)"
   ]
  },
  {
   "cell_type": "code",
   "execution_count": null,
   "id": "e0cff5b2",
   "metadata": {},
   "outputs": [],
   "source": []
  }
 ],
 "metadata": {
  "kernelspec": {
   "display_name": "Python 3.8.10 64-bit",
   "language": "python",
   "name": "python3"
  },
  "language_info": {
   "codemirror_mode": {
    "name": "ipython",
    "version": 3
   },
   "file_extension": ".py",
   "mimetype": "text/x-python",
   "name": "python",
   "nbconvert_exporter": "python",
   "pygments_lexer": "ipython3",
   "version": "3.8.10"
  },
  "vscode": {
   "interpreter": {
    "hash": "916dbcbb3f70747c44a77c7bcd40155683ae19c65e1c03b4aa3499c5328201f1"
   }
  }
 },
 "nbformat": 4,
 "nbformat_minor": 5
}
